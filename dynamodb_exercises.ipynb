{
 "cells": [
  {
   "cell_type": "code",
   "execution_count": 1,
   "id": "authorized-slovak",
   "metadata": {},
   "outputs": [],
   "source": [
    "import boto3"
   ]
  },
  {
   "cell_type": "code",
   "execution_count": 16,
   "id": "dietary-shift",
   "metadata": {},
   "outputs": [],
   "source": [
    "# After aws configuration at aws command line interface. aws cli"
   ]
  },
  {
   "cell_type": "code",
   "execution_count": 3,
   "id": "warming-pressing",
   "metadata": {},
   "outputs": [],
   "source": [
    "table_name = \"Movies\""
   ]
  },
  {
   "cell_type": "code",
   "execution_count": 2,
   "id": "unauthorized-craps",
   "metadata": {},
   "outputs": [],
   "source": [
    "dynamodb_client = boto3.client(\"dynamodb\")"
   ]
  },
  {
   "cell_type": "code",
   "execution_count": 9,
   "id": "advanced-terror",
   "metadata": {},
   "outputs": [],
   "source": [
    "item_scarface = {\n",
    "    \"Title\":{\"S\":\"Scarface\"},\n",
    "    \"Year\":{\"S\":\"1983\"}\n",
    "}"
   ]
  },
  {
   "cell_type": "code",
   "execution_count": 10,
   "id": "roman-province",
   "metadata": {},
   "outputs": [
    {
     "data": {
      "text/plain": [
       "{'ResponseMetadata': {'RequestId': 'T36885PI4ONAU7RQCOOBHT2NT3VV4KQNSO5AEMVJF66Q9ASUAAJG',\n",
       "  'HTTPStatusCode': 200,\n",
       "  'HTTPHeaders': {'server': 'Server',\n",
       "   'date': 'Wed, 27 Oct 2021 11:14:23 GMT',\n",
       "   'content-type': 'application/x-amz-json-1.0',\n",
       "   'content-length': '2',\n",
       "   'connection': 'keep-alive',\n",
       "   'x-amzn-requestid': 'T36885PI4ONAU7RQCOOBHT2NT3VV4KQNSO5AEMVJF66Q9ASUAAJG',\n",
       "   'x-amz-crc32': '2745614147'},\n",
       "  'RetryAttempts': 0}}"
      ]
     },
     "execution_count": 10,
     "metadata": {},
     "output_type": "execute_result"
    }
   ],
   "source": [
    "dynamodb_client.put_item(TableName=table_name, Item=item_scarface)"
   ]
  },
  {
   "cell_type": "code",
   "execution_count": 21,
   "id": "hidden-emphasis",
   "metadata": {},
   "outputs": [
    {
     "data": {
      "text/plain": [
       "{'ResponseMetadata': {'RequestId': '9H4O5T46DK4SKJLDDGVAPDT6ABVV4KQNSO5AEMVJF66Q9ASUAAJG',\n",
       "  'HTTPStatusCode': 200,\n",
       "  'HTTPHeaders': {'server': 'Server',\n",
       "   'date': 'Wed, 27 Oct 2021 11:34:14 GMT',\n",
       "   'content-type': 'application/x-amz-json-1.0',\n",
       "   'content-length': '2',\n",
       "   'connection': 'keep-alive',\n",
       "   'x-amzn-requestid': '9H4O5T46DK4SKJLDDGVAPDT6ABVV4KQNSO5AEMVJF66Q9ASUAAJG',\n",
       "   'x-amz-crc32': '2745614147'},\n",
       "  'RetryAttempts': 0}}"
      ]
     },
     "execution_count": 21,
     "metadata": {},
     "output_type": "execute_result"
    }
   ],
   "source": [
    "dynamodb_client.put_item(TableName=table_name, \n",
    "                         Item={\"Title\":{\"S\":\"Harry Potter\"},\n",
    "                              \"Year\":{\"S\":\"1972\"}})"
   ]
  },
  {
   "cell_type": "code",
   "execution_count": 14,
   "id": "concrete-gross",
   "metadata": {},
   "outputs": [
    {
     "name": "stdout",
     "output_type": "stream",
     "text": [
      "{'Item': {'Title': {'S': 'Scarface'}, 'Year': {'S': '1983'}}, 'ResponseMetadata': {'RequestId': 'UUPVRIB3U0JFTC1BRNA12M1K0BVV4KQNSO5AEMVJF66Q9ASUAAJG', 'HTTPStatusCode': 200, 'HTTPHeaders': {'server': 'Server', 'date': 'Wed, 27 Oct 2021 11:25:46 GMT', 'content-type': 'application/x-amz-json-1.0', 'content-length': '55', 'connection': 'keep-alive', 'x-amzn-requestid': 'UUPVRIB3U0JFTC1BRNA12M1K0BVV4KQNSO5AEMVJF66Q9ASUAAJG', 'x-amz-crc32': '3592226562'}, 'RetryAttempts': 0}}\n"
     ]
    }
   ],
   "source": [
    "print(dynamodb_client.get_item(TableName=table_name, Key=item_scarface))"
   ]
  },
  {
   "cell_type": "markdown",
   "id": "arctic-favor",
   "metadata": {},
   "source": [
    "___"
   ]
  },
  {
   "cell_type": "code",
   "execution_count": 17,
   "id": "violent-interaction",
   "metadata": {},
   "outputs": [],
   "source": [
    "# dynamodb_client\n",
    "\n",
    "table = dynamodb_client.create_table(\n",
    "TableName=\"Users\",\n",
    "KeySchema=[{\n",
    "    \"AttributeName\":\"id\",\n",
    "    \"KeyType\":\"HASH\"\n",
    "}],\n",
    "AttributeDefinitions=[{\n",
    "    \"AttributeName\":\"id\",\n",
    "    \"AttributeType\":\"N\"\n",
    "}],\n",
    "ProvisionedThroughput={\n",
    "    \"ReadCapacityUnits\":1,\n",
    "    \"WriteCapacityUnits\":1\n",
    "})"
   ]
  },
  {
   "cell_type": "code",
   "execution_count": 22,
   "id": "electric-oliver",
   "metadata": {},
   "outputs": [],
   "source": [
    "from boto3.dynamodb.conditions import Key"
   ]
  },
  {
   "cell_type": "code",
   "execution_count": 23,
   "id": "casual-secret",
   "metadata": {},
   "outputs": [],
   "source": [
    "dynamodb = boto3.resource(\"dynamodb\")"
   ]
  },
  {
   "cell_type": "code",
   "execution_count": 24,
   "id": "standing-november",
   "metadata": {},
   "outputs": [],
   "source": [
    "table = dynamodb.Table(\"Users\")"
   ]
  },
  {
   "cell_type": "code",
   "execution_count": 34,
   "id": "naughty-addiction",
   "metadata": {},
   "outputs": [],
   "source": [
    "resp = table.get_item(Key={\"id\":1})"
   ]
  },
  {
   "cell_type": "code",
   "execution_count": null,
   "id": "massive-roommate",
   "metadata": {},
   "outputs": [],
   "source": []
  },
  {
   "cell_type": "code",
   "execution_count": null,
   "id": "eight-interaction",
   "metadata": {},
   "outputs": [],
   "source": []
  },
  {
   "cell_type": "code",
   "execution_count": 33,
   "id": "wound-spokesman",
   "metadata": {},
   "outputs": [
    {
     "data": {
      "text/plain": [
       "{'id': '1',\n",
       " 'email': 'yunusulucay@gmail.com',\n",
       " 'last_name': 'Ulucay',\n",
       " 'first_name': 'Yunus'}"
      ]
     },
     "execution_count": 33,
     "metadata": {},
     "output_type": "execute_result"
    }
   ],
   "source": [
    "{\"id\":\"1\",\"email\":\"yunusulucay@gmail.com\",\"last_name\":\"Ulucay\",\n",
    "\"first_name\":\"Yunus\"}"
   ]
  },
  {
   "cell_type": "code",
   "execution_count": 37,
   "id": "dying-rental",
   "metadata": {},
   "outputs": [
    {
     "ename": "IndexError",
     "evalue": "list index out of range",
     "output_type": "error",
     "traceback": [
      "\u001b[0;31m---------------------------------------------------------------------------\u001b[0m",
      "\u001b[0;31mIndexError\u001b[0m                                Traceback (most recent call last)",
      "\u001b[0;32m<ipython-input-37-d94bf9d8f212>\u001b[0m in \u001b[0;36m<module>\u001b[0;34m\u001b[0m\n\u001b[1;32m      3\u001b[0m \u001b[0;34m\u001b[0m\u001b[0m\n\u001b[1;32m      4\u001b[0m \u001b[0;32mif\u001b[0m \u001b[0;34m\"Items\"\u001b[0m \u001b[0;32min\u001b[0m \u001b[0mresp\u001b[0m\u001b[0;34m:\u001b[0m\u001b[0;34m\u001b[0m\u001b[0;34m\u001b[0m\u001b[0m\n\u001b[0;32m----> 5\u001b[0;31m     \u001b[0mprint\u001b[0m\u001b[0;34m(\u001b[0m\u001b[0mresp\u001b[0m\u001b[0;34m[\u001b[0m\u001b[0;34m\"Items\"\u001b[0m\u001b[0;34m]\u001b[0m\u001b[0;34m[\u001b[0m\u001b[0;36m0\u001b[0m\u001b[0;34m]\u001b[0m\u001b[0;34m)\u001b[0m\u001b[0;34m\u001b[0m\u001b[0;34m\u001b[0m\u001b[0m\n\u001b[0m",
      "\u001b[0;31mIndexError\u001b[0m: list index out of range"
     ]
    }
   ],
   "source": [
    "resp = table.query(\n",
    "KeyConditionExpression=Key(\"id\").eq(1))\n",
    "\n",
    "if \"Items\" in resp:\n",
    "    print(resp[\"Items\"][0])"
   ]
  },
  {
   "cell_type": "code",
   "execution_count": 38,
   "id": "laughing-compound",
   "metadata": {},
   "outputs": [
    {
     "data": {
      "text/plain": [
       "{'Attributes': {'first_name': 'Jane'},\n",
       " 'ResponseMetadata': {'RequestId': '7MU4DB4MMNLM4LP70OB19V56OFVV4KQNSO5AEMVJF66Q9ASUAAJG',\n",
       "  'HTTPStatusCode': 200,\n",
       "  'HTTPHeaders': {'server': 'Server',\n",
       "   'date': 'Wed, 27 Oct 2021 11:44:50 GMT',\n",
       "   'content-type': 'application/x-amz-json-1.0',\n",
       "   'content-length': '42',\n",
       "   'connection': 'keep-alive',\n",
       "   'x-amzn-requestid': '7MU4DB4MMNLM4LP70OB19V56OFVV4KQNSO5AEMVJF66Q9ASUAAJG',\n",
       "   'x-amz-crc32': '1675702514'},\n",
       "  'RetryAttempts': 0}}"
      ]
     },
     "execution_count": 38,
     "metadata": {},
     "output_type": "execute_result"
    }
   ],
   "source": [
    "table.update_item(\n",
    "Key={\"id\":1},\n",
    "UpdateExpression=\"set first_name = :g\",\n",
    "ExpressionAttributeValues={\n",
    "    \":g\":\"Jane\"\n",
    "},\n",
    "ReturnValues=\"UPDATED_NEW\")"
   ]
  },
  {
   "cell_type": "code",
   "execution_count": 39,
   "id": "requested-castle",
   "metadata": {},
   "outputs": [],
   "source": [
    "resp = table.get_item(Key={\"id\":1})"
   ]
  },
  {
   "cell_type": "code",
   "execution_count": 40,
   "id": "known-physiology",
   "metadata": {},
   "outputs": [
    {
     "data": {
      "text/plain": [
       "{'Item': {'id': Decimal('1'), 'first_name': 'Jane'},\n",
       " 'ResponseMetadata': {'RequestId': 'AQBGVOHS5Q7EBTAS80NRA3FMB7VV4KQNSO5AEMVJF66Q9ASUAAJG',\n",
       "  'HTTPStatusCode': 200,\n",
       "  'HTTPHeaders': {'server': 'Server',\n",
       "   'date': 'Wed, 27 Oct 2021 11:45:21 GMT',\n",
       "   'content-type': 'application/x-amz-json-1.0',\n",
       "   'content-length': '51',\n",
       "   'connection': 'keep-alive',\n",
       "   'x-amzn-requestid': 'AQBGVOHS5Q7EBTAS80NRA3FMB7VV4KQNSO5AEMVJF66Q9ASUAAJG',\n",
       "   'x-amz-crc32': '3895477552'},\n",
       "  'RetryAttempts': 0}}"
      ]
     },
     "execution_count": 40,
     "metadata": {},
     "output_type": "execute_result"
    }
   ],
   "source": [
    "resp"
   ]
  },
  {
   "cell_type": "code",
   "execution_count": null,
   "id": "sweet-automation",
   "metadata": {},
   "outputs": [],
   "source": []
  },
  {
   "cell_type": "code",
   "execution_count": null,
   "id": "stainless-texture",
   "metadata": {},
   "outputs": [],
   "source": []
  },
  {
   "cell_type": "code",
   "execution_count": null,
   "id": "extra-flavor",
   "metadata": {},
   "outputs": [],
   "source": []
  },
  {
   "cell_type": "code",
   "execution_count": null,
   "id": "subsequent-intersection",
   "metadata": {},
   "outputs": [],
   "source": []
  },
  {
   "cell_type": "code",
   "execution_count": null,
   "id": "assumed-malaysia",
   "metadata": {},
   "outputs": [],
   "source": []
  },
  {
   "cell_type": "code",
   "execution_count": null,
   "id": "clinical-anthony",
   "metadata": {},
   "outputs": [],
   "source": []
  },
  {
   "cell_type": "code",
   "execution_count": null,
   "id": "surprising-salad",
   "metadata": {},
   "outputs": [],
   "source": []
  },
  {
   "cell_type": "code",
   "execution_count": null,
   "id": "yellow-associate",
   "metadata": {},
   "outputs": [],
   "source": []
  }
 ],
 "metadata": {
  "kernelspec": {
   "display_name": "Python 3",
   "language": "python",
   "name": "python3"
  },
  "language_info": {
   "codemirror_mode": {
    "name": "ipython",
    "version": 3
   },
   "file_extension": ".py",
   "mimetype": "text/x-python",
   "name": "python",
   "nbconvert_exporter": "python",
   "pygments_lexer": "ipython3",
   "version": "3.6.9"
  }
 },
 "nbformat": 4,
 "nbformat_minor": 5
}
